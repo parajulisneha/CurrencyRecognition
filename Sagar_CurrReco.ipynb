{
 "cells": [
  {
   "cell_type": "code",
   "execution_count": 1,
   "metadata": {
    "collapsed": true
   },
   "outputs": [],
   "source": [
    "import numpy\n",
    "import sklearn\n",
    "import os\n",
    "\n",
    "from sklearn.neural_network import MLPClassifier\n",
    "from sklearn.metrics import classification_report,confusion_matrix"
   ]
  },
  {
   "cell_type": "code",
   "execution_count": 2,
   "metadata": {
    "collapsed": false
   },
   "outputs": [
    {
     "name": "stdout",
     "output_type": "stream",
     "text": [
      "The scikit-learn version is 0.18.1.\n"
     ]
    }
   ],
   "source": [
    "print('The scikit-learn version is {}.'.format(sklearn.__version__))"
   ]
  },
  {
   "cell_type": "code",
   "execution_count": 3,
   "metadata": {
    "collapsed": true
   },
   "outputs": [],
   "source": [
    "mapping = {\n",
    "        0: \"5 rupees\",\n",
    "        1: \"10 rupees\",\n",
    "        2: \"20 rupees\",\n",
    "        3: \"50 rupees\",\n",
    "        4: \"100 rupees\",\n",
    "        5: \"500 rupees\",\n",
    "        6: \"1000 rupees\",\n",
    "}"
   ]
  },
  {
   "cell_type": "code",
   "execution_count": 27,
   "metadata": {
    "collapsed": true
   },
   "outputs": [],
   "source": [
    "training_data_file = numpy.genfromtxt('MergedDataset2500.csv', delimiter=',', filling_values=0.0)"
   ]
  },
  {
   "cell_type": "code",
   "execution_count": 28,
   "metadata": {
    "collapsed": false,
    "scrolled": true
   },
   "outputs": [
    {
     "data": {
      "text/plain": [
       "(91, 2501)"
      ]
     },
     "execution_count": 28,
     "metadata": {},
     "output_type": "execute_result"
    }
   ],
   "source": [
    "training_data_file.shape"
   ]
  },
  {
   "cell_type": "code",
   "execution_count": 29,
   "metadata": {
    "collapsed": false
   },
   "outputs": [
    {
     "data": {
      "text/plain": [
       "((91, 2500), (91,))"
      ]
     },
     "execution_count": 29,
     "metadata": {},
     "output_type": "execute_result"
    }
   ],
   "source": [
    "X_Train = training_data_file[:, 1:]\n",
    "Y_Train = training_data_file[:, 0]\n",
    "\n",
    "X_Train.shape, Y_Train.shape"
   ]
  },
  {
   "cell_type": "code",
   "execution_count": 19,
   "metadata": {
    "collapsed": false,
    "scrolled": false
   },
   "outputs": [
    {
     "name": "stdout",
     "output_type": "stream",
     "text": [
      "X Test (21, 2500)\n",
      "Y Test (21,)\n"
     ]
    }
   ],
   "source": [
    "test_data_file = numpy.genfromtxt('TestingDataset.csv', delimiter=',', filling_values=0.0)\n",
    "X_Test =  test_data_file[:,1:]\n",
    "Y_Test =  test_data_file[:,0]\n",
    "print(\"X Test\", X_Test.shape)\n",
    "print(\"Y Test\", Y_Test.shape)"
   ]
  },
  {
   "cell_type": "code",
   "execution_count": 22,
   "metadata": {
    "collapsed": false
   },
   "outputs": [
    {
     "name": "stdout",
     "output_type": "stream",
     "text": [
      "[ 0.  0.  0.  1.  1.  1.  2.  2.  2.  3.  3.  3.  4.  4.  4.  4.  5.  5.\n",
      "  6.  6.  6.]\n",
      "5 rupees\n",
      "5 rupees\n",
      "5 rupees\n",
      "10 rupees\n",
      "10 rupees\n",
      "10 rupees\n",
      "20 rupees\n",
      "20 rupees\n",
      "20 rupees\n",
      "50 rupees\n",
      "50 rupees\n",
      "50 rupees\n",
      "100 rupees\n",
      "100 rupees\n",
      "100 rupees\n",
      "100 rupees\n",
      "500 rupees\n",
      "500 rupees\n",
      "1000 rupees\n",
      "1000 rupees\n",
      "1000 rupees\n",
      "[[3 0 0 0 0 0 0]\n",
      " [0 3 0 0 0 0 0]\n",
      " [0 0 3 0 0 0 0]\n",
      " [0 0 0 3 0 0 0]\n",
      " [0 0 0 0 3 0 0]\n",
      " [0 0 0 0 1 2 0]\n",
      " [0 0 0 0 0 0 3]]\n",
      "             precision    recall  f1-score   support\n",
      "\n",
      "        0.0       1.00      1.00      1.00         3\n",
      "        1.0       1.00      1.00      1.00         3\n",
      "        2.0       1.00      1.00      1.00         3\n",
      "        3.0       1.00      1.00      1.00         3\n",
      "        4.0       0.75      1.00      0.86         3\n",
      "        5.0       1.00      0.67      0.80         3\n",
      "        6.0       1.00      1.00      1.00         3\n",
      "\n",
      "avg / total       0.96      0.95      0.95        21\n",
      "\n"
     ]
    },
    {
     "name": "stderr",
     "output_type": "stream",
     "text": [
      "/home/sgiri/anaconda3/lib/python3.6/site-packages/sklearn/neural_network/multilayer_perceptron.py:563: ConvergenceWarning: Stochastic Optimizer: Maximum iterations reached and the optimization hasn't converged yet.\n",
      "  % (), ConvergenceWarning)\n"
     ]
    }
   ],
   "source": [
    "mlp = MLPClassifier(solver='sgd', alpha=1e-5, activation='logistic', max_iter=1000, learning_rate='adaptive',\n",
    "                        hidden_layer_sizes=(50,), random_state=1, verbose=False)\n",
    "\n",
    "mlp.fit(X_Train, Y_Train)\n",
    "\n",
    "# predicting the output.\n",
    "predictions = mlp.predict(X_Test)\n",
    "print(predictions)\n",
    "\n",
    "for each in predictions:\n",
    "    print(mapping[each])\n",
    "\n",
    "\n",
    "# confusion_matrix\n",
    "print(confusion_matrix(Y_Test,predictions))\n",
    "\n",
    "print(classification_report(Y_Test,predictions))"
   ]
  },
  {
   "cell_type": "code",
   "execution_count": 30,
   "metadata": {
    "collapsed": false
   },
   "outputs": [],
   "source": [
    "userUploadData = numpy.genfromtxt('2500for20.csv', delimiter=',', filling_values=0.0)"
   ]
  },
  {
   "cell_type": "code",
   "execution_count": 31,
   "metadata": {
    "collapsed": false,
    "scrolled": true
   },
   "outputs": [
    {
     "data": {
      "text/plain": [
       "(2500,)"
      ]
     },
     "execution_count": 31,
     "metadata": {},
     "output_type": "execute_result"
    }
   ],
   "source": [
    "userUploadData.shape"
   ]
  },
  {
   "cell_type": "code",
   "execution_count": 32,
   "metadata": {
    "collapsed": false
   },
   "outputs": [
    {
     "name": "stderr",
     "output_type": "stream",
     "text": [
      "/home/sgiri/anaconda3/lib/python3.6/site-packages/sklearn/neural_network/multilayer_perceptron.py:563: ConvergenceWarning: Stochastic Optimizer: Maximum iterations reached and the optimization hasn't converged yet.\n",
      "  % (), ConvergenceWarning)\n"
     ]
    }
   ],
   "source": [
    "mlp = MLPClassifier(solver='sgd', alpha=1e-5, activation='logistic', max_iter=1000, learning_rate='adaptive',\n",
    "                        hidden_layer_sizes=(40,), random_state=1, verbose=False)\n",
    "\n",
    "fit = mlp.fit(X_Train, Y_Train)"
   ]
  },
  {
   "cell_type": "code",
   "execution_count": 33,
   "metadata": {
    "collapsed": false,
    "scrolled": true
   },
   "outputs": [
    {
     "name": "stdout",
     "output_type": "stream",
     "text": [
      "[[ 0.12887848  0.14581889  0.17740063  0.15873874  0.149435    0.12043616\n",
      "   0.1192921 ]]\n",
      "20 rupees\n"
     ]
    },
    {
     "name": "stderr",
     "output_type": "stream",
     "text": [
      "/home/sgiri/anaconda3/lib/python3.6/site-packages/sklearn/utils/validation.py:395: DeprecationWarning: Passing 1d arrays as data is deprecated in 0.17 and will raise ValueError in 0.19. Reshape your data either using X.reshape(-1, 1) if your data has a single feature or X.reshape(1, -1) if it contains a single sample.\n",
      "  DeprecationWarning)\n",
      "/home/sgiri/anaconda3/lib/python3.6/site-packages/sklearn/utils/validation.py:395: DeprecationWarning: Passing 1d arrays as data is deprecated in 0.17 and will raise ValueError in 0.19. Reshape your data either using X.reshape(-1, 1) if your data has a single feature or X.reshape(1, -1) if it contains a single sample.\n",
      "  DeprecationWarning)\n"
     ]
    }
   ],
   "source": [
    "predictions1 = fit.predict_proba(userUploadData)\n",
    "print(predictions1)\n",
    "\n",
    "predictions2 = fit.predict(userUploadData)\n",
    "for each in predictions2:\n",
    "    print(mapping[each])"
   ]
  }
 ],
 "metadata": {
  "kernelspec": {
   "display_name": "Python 3",
   "language": "python",
   "name": "python3"
  },
  "language_info": {
   "codemirror_mode": {
    "name": "ipython",
    "version": 3
   },
   "file_extension": ".py",
   "mimetype": "text/x-python",
   "name": "python",
   "nbconvert_exporter": "python",
   "pygments_lexer": "ipython3",
   "version": "3.6.0"
  }
 },
 "nbformat": 4,
 "nbformat_minor": 2
}
